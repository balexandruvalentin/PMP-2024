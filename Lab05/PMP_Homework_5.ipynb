{
 "cells": [
  {
   "cell_type": "markdown",
   "metadata": {},
   "source": [
    "***Ex. 1.*** (formula lui Bayes). Să presupunem că investigăm o boală ($B$), care afectează doar un procent din populaţie\n",
    "($P(B) = 0.01$). Avem un test de diagnosticare pentru această boală, care are următoarele caracteristici:\n",
    "\n",
    "● Sensibilitate (probabilitatea ca testul să fie pozitiv dacă persoana este bolnavă): $P(Test = Pozitiv∣B) = 0.95$\n",
    "\n",
    "● Specificitate (probabilitatea ca testul să fie negativ dacă persoana nu este bolnavă): $P(Test = Negativ∣¬B) = 0.90$"
   ]
  },
  {
   "cell_type": "markdown",
   "metadata": {},
   "source": [
    "# a) Dacă o persoană este testată şi rezultatul este pozitiv, care este probabilitatea ca aceasta să fie efectiv bolnavă? Cum explicaţi rezultatul?"
   ]
  },
  {
   "cell_type": "markdown",
   "metadata": {},
   "source": [
    "Trebuie calculat $P(B | Test = Pozitiv)$. Folosind formula lui Bayes, ajungem la:\n",
    "\n",
    "$$\n",
    "P(B | Test = Positiv) = \\frac{P(Test = Positiv | B) P(B)}{P(Test = Pozitiv)}\n",
    "$$\n",
    "\n",
    "Stim ca:\n",
    "\n",
    "- $P(Test = Pozitiv | B) = 0.95$\n",
    "- $P(B) = 0.01$\n",
    "\n",
    "Si aplicand teorema probabilitatii totale pentru $P(Test = Pozitiv)$, ajungem la:\n",
    "\n",
    "- $P(Test = Pozitiv) = P(Test = Pozitiv | B) \\cdot P(B) + P(Test = Pozitiv | \\neg B) \\cdot P(\\neg B)$\n",
    "\n",
    "Unde putem folosi \n",
    "\n",
    "- $P(Test = Pozitiv | \\neg B) = 1 - P(Test = Negativ | \\neg B)$\n",
    "- $P(\\neg B) = 1 - P(B) = 0.99$ \n",
    "\n",
    "pentru a obtine formula urmatoare pentru $P(B | Test = Pozitiv)$:\n",
    "\n",
    "$$\n",
    "P(B | Test = Positiv) = \\frac{0.95 \\cdot 0.01}{0.95 \\cdot 0.01 + (1 - P(Test = N | \\neg B)) \\cdot 0.99} \\iff\n",
    "$$\n",
    "$$\n",
    "\\iff P(B | Test = Positiv) = \\frac{0.95 \\cdot 0.01}{0.95 \\cdot 0.01 + 0.10 \\cdot 0.99} \\iff\n",
    "$$\n",
    "$$\n",
    "\\iff P(B | Test = Pozitiv) \\approx 0.0875\n",
    "$$"
   ]
  },
  {
   "cell_type": "markdown",
   "metadata": {},
   "source": [
    "# b) Care ar trebui să fie specificitatea minimă pentru ca probabilitatea de mai sus să ajungă la 50%?"
   ]
  },
  {
   "cell_type": "markdown",
   "metadata": {},
   "source": [
    "Inlocuind specificitatea cu $x$, obtinem formula urmatoare pentru formula de mai sus:\n",
    "\n",
    "$$\n",
    "P(B | Test = Positiv) = \\frac{0.95 \\cdot 0.01}{0.95 \\cdot 0.01 + (1 - x) \\cdot 0.99} = \\frac{0.0095}{0.9995 - 0.99x}\n",
    "$$\n",
    "\n",
    "Vrem sa aflam pentru ce valoare minima a lui $x$ este expresia de mai sus mai mare decat $0.5$:\n",
    "\n",
    "$$\n",
    "\\frac{0.0095}{0.9995 - 0.99x} > 0.5\n",
    "$$\n",
    "\n",
    "Evident $0.9995 - 0.99x \\in \\left[ 0, 0.0095 \\right]$ deci este $>0$, asadar putem inmulti ambele parti cu numitorul:\n",
    "\n",
    "$$\n",
    "0.0095 > 0.5 \\cdot 0.9995 - 0.5 \\cdot 0.99x\n",
    "$$\n",
    "$$\n",
    "0.5 \\cdot 0.99x > 0.5 \\cdot 0.9995 - 0.0095\n",
    "$$\n",
    "$$\n",
    "x > \\frac{0.5 \\cdot 0.9995 - 0.0095}{0.5 \\cdot 0.99} = 0.99040404...\n",
    "$$\n",
    "\n",
    "Asadar, pentru ca probabilitatea $P(B | Test = Pozitiv)$ sa ajunga la $50\\%$, specificitatea minima este\n",
    "\n",
    "$$\n",
    "P(Test = Negativ | \\neg B)_{minim} \\approx 0.99041\n",
    "$$"
   ]
  },
  {
   "cell_type": "markdown",
   "metadata": {},
   "source": [
    "***Ex. 2.*** Doreşti sa deschizi o nouă locaţie fast-food în oraş. Analizând volumul de trafic al\n",
    "locaţiei, aproximezi ca numărul de clienţi care ar intra în restaurant umează o distribuţie Poisson de parametru λ = 20\n",
    "clienţi/oră.\n",
    "\n",
    "Timpul de plasare si plată a unei comenzi la o casă urmează o distribuţie exponenţială cu media de 2 minute. O staţie\n",
    "de gătit pregateşte o comandă intr-un timp descris de o distribuţie exponenţială cu media de α minute."
   ]
  },
  {
   "cell_type": "markdown",
   "metadata": {},
   "source": [
    "1. Definiţi modelul probabilist (simularea experienţiei) care sa descrie contextul de mai sus."
   ]
  },
  {
   "cell_type": "code",
   "execution_count": null,
   "metadata": {},
   "outputs": [
    {
     "name": "stdout",
     "output_type": "stream",
     "text": [
      "Numărul total de clienți: 25\n",
      "Timpul mediu de așteptare la casă (minute): 1.9392442676745667\n",
      "Timpul mediu de așteptare la gătire (minute): 4.032956487878668\n"
     ]
    }
   ],
   "source": [
    "import numpy as np\n",
    "\n",
    "def fast_food_model(customers_rate, order_time, preparing_time):\n",
    "    customer_count = np.random.poisson(customers_rate)\n",
    "    order_times = np.random.exponential(order_time, customer_count)\n",
    "    preparing_times = np.random.exponential(preparing_time, customer_count)\n",
    "    return customer_count, order_times, preparing_times\n",
    "\n",
    "customers_rate = float(input(\"Adaugati parametrul λ (rata client pe ora): \")) #dat ca exemplu: 20\n",
    "order_time = float(input(\"Adaugati parametrul urmat de distributia timpului de plasare: \")) #dat ca exemplu: 2\n",
    "preparing_time = float(input(\"Adaugati parametrul α (urmat de distributia timpului de pregatire:) \")) #dat ca exemplu: 3\n",
    "\n",
    "customer_count, order_times, preparing_times = fast_food_model(customers_rate, order_time, preparing_time)\n",
    "print(\"Numărul total de clienți:\", customer_count)\n",
    "print(\"Timpul mediu de așteptare la casă (minute):\", np.mean(order_times))\n",
    "print(\"Timpul mediu de așteptare la gătire (minute):\", np.mean(preparing_times))"
   ]
  },
  {
   "cell_type": "markdown",
   "metadata": {},
   "source": [
    "2. Determinaţi care este (cu aproximaţie) α maxim pentru a le putea servi mancarea intr-un timp mai scurt de 15\n",
    "minute tuturor clienţilor care intră într-o oră, cu o probabilitate de 95%."
   ]
  },
  {
   "cell_type": "code",
   "execution_count": 69,
   "metadata": {},
   "outputs": [
    {
     "name": "stdout",
     "output_type": "stream",
     "text": [
      "Valoarea maxima a lui α pentru a satisface conditia din enunt este 1.590\n"
     ]
    }
   ],
   "source": [
    "def satisfaction_rate(customers_rate, order_time, alpha, simulation_count):\n",
    "    satisfaction_count = 0\n",
    "    for _ in range(simulation_count):\n",
    "        customer_count, order_times, preparing_times = fast_food_model(customers_rate, order_time, alpha)\n",
    "\n",
    "        serving_times = np.add(order_times, preparing_times)\n",
    "        if np.all(serving_times < 15): #daca toti clientii au fost serviti in mai putin de 15 minute\n",
    "            satisfaction_count += 1\n",
    "    \n",
    "    return satisfaction_count/simulation_count #probabilitatea ca un client va fi servit in 15 minute\n",
    "\n",
    "customers_rate = float(input(\"Adaugati parametrul λ (rata client pe ora): \"))\n",
    "order_time = float(input(\"Adaugati parametrul urmat de distributia timpului de plasare: \"))\n",
    "\n",
    "alpha = 0\n",
    "while (satisfaction_rate(customers_rate, order_time, alpha, 10000) >= 0.95):\n",
    "    alpha += 0.01\n",
    "\n",
    "print(f\"Valoarea maxima a lui α pentru a satisface conditia din enunt este {alpha:.3f}\")\n",
    "#timpul de lucru este destul de mare deoarece alpha creste numai cu 0.01 la fiecare test, pentru acuratete cat mai ridicata"
   ]
  },
  {
   "cell_type": "markdown",
   "metadata": {},
   "source": [
    "3. Cu α astfel calculat, determinaţi timpul mediu de aşteptare pentru a fi servit al unui client."
   ]
  },
  {
   "cell_type": "code",
   "execution_count": 77,
   "metadata": {},
   "outputs": [
    {
     "name": "stdout",
     "output_type": "stream",
     "text": [
      "Timpul mediu de servit unui client pentru parametrii dati este 3.602\n"
     ]
    }
   ],
   "source": [
    "serving_times = []\n",
    "for _ in range(10000):\n",
    "    customer_count, order_times, preparing_times = fast_food_model(customers_rate, order_time, alpha)\n",
    "    serving_times.extend(np.add(order_times, preparing_times))\n",
    "\n",
    "average_serving_time = np.mean(serving_times)\n",
    "print(f\"Timpul mediu de servit unui client pentru parametrii dati este {average_serving_time:.3f}\")"
   ]
  }
 ],
 "metadata": {
  "kernelspec": {
   "display_name": "Python 3",
   "language": "python",
   "name": "python3"
  },
  "language_info": {
   "codemirror_mode": {
    "name": "ipython",
    "version": 3
   },
   "file_extension": ".py",
   "mimetype": "text/x-python",
   "name": "python",
   "nbconvert_exporter": "python",
   "pygments_lexer": "ipython3",
   "version": "3.11.3"
  }
 },
 "nbformat": 4,
 "nbformat_minor": 2
}
