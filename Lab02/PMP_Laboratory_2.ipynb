{
 "cells": [
  {
   "cell_type": "code",
   "execution_count": 113,
   "metadata": {},
   "outputs": [
    {
     "name": "stdout",
     "output_type": "stream",
     "text": [
      "Probabilitatea este: 0.316638\n"
     ]
    }
   ],
   "source": [
    "import random\n",
    "\n",
    "def extrage_bila(r, a, n):\n",
    "    urna = ['r'] * r\n",
    "    urna.extend(['a'] * a)\n",
    "    urna.extend(['n'] * n)\n",
    "    aruncare_zar = random.choice([1, 2, 3, 4, 5, 6])\n",
    "\n",
    "    if aruncare_zar in [2, 3, 5]: urna.append('n')\n",
    "    else: \n",
    "        if aruncare_zar == 6: urna.append('r')\n",
    "        else: urna.append('a')\n",
    "    \n",
    "    return random.choice(urna)\n",
    "\n",
    "def probabilitate_rosie(count):\n",
    "    nr_rosii = 0\n",
    "    for _ in range(0, count):\n",
    "        bila = extrage_bila(3, 4, 2)\n",
    "        if bila == 'r':\n",
    "            nr_rosii = nr_rosii + 1\n",
    "    return nr_rosii/count\n",
    "\n",
    "print(\"Probabilitatea este:\", probabilitate_rosie(1000000))"
   ]
  },
  {
   "cell_type": "markdown",
   "metadata": {},
   "source": [
    "Probabilitatea actuala este P(R) = P(R|prim)P(prim) + P(R|6)P(6) + P(R|altfel)P(altfel)\n",
    "<=> P(R) = 3/(3+4+3) x 3/6 + 4/(4+4+2) x 1/6 + 3/(3+5+2) x 2/6 = 9/60 + 4/60 + 6/60 = 19/60 ~= 0.31666..."
   ]
  }
 ],
 "metadata": {
  "kernelspec": {
   "display_name": "Python 3",
   "language": "python",
   "name": "python3"
  },
  "language_info": {
   "codemirror_mode": {
    "name": "ipython",
    "version": 3
   },
   "file_extension": ".py",
   "mimetype": "text/x-python",
   "name": "python",
   "nbconvert_exporter": "python",
   "pygments_lexer": "ipython3",
   "version": "3.11.3"
  }
 },
 "nbformat": 4,
 "nbformat_minor": 2
}
